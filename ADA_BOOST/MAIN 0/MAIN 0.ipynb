{
 "cells": [
  {
   "cell_type": "code",
   "execution_count": 1,
   "metadata": {},
   "outputs": [
    {
     "name": "stderr",
     "output_type": "stream",
     "text": [
      "C:\\Users\\asus\\anaconda3\\lib\\site-packages\\scipy\\__init__.py:146: UserWarning: A NumPy version >=1.16.5 and <1.23.0 is required for this version of SciPy (detected version 1.23.1\n",
      "  warnings.warn(f\"A NumPy version >={np_minversion} and <{np_maxversion}\"\n"
     ]
    }
   ],
   "source": [
    "import numpy as np\n",
    "from sklearn import datasets\n",
    "from sklearn.model_selection import train_test_split"
   ]
  },
  {
   "cell_type": "code",
   "execution_count": null,
   "metadata": {},
   "outputs": [],
   "source": []
  },
  {
   "cell_type": "code",
   "execution_count": 2,
   "metadata": {},
   "outputs": [],
   "source": [
    "class DecisionStump:\n",
    "    def __init__(self):\n",
    "        self.polarity = 1\n",
    "        self.threshold = None\n",
    "        self.feature_idx = None\n",
    "        self.alpha = None\n",
    "        \n",
    "    def predict(self,X):\n",
    "        n_samples = X.shape[0]\n",
    "        X_c = X[:,self.feature_idx]\n",
    "        preds = np.ones(n_samples)\n",
    "        \n",
    "        if self.polarity ==1:\n",
    "            preds[X_c < self.threshold] = -1\n",
    "        else:\n",
    "            preds[X_c > self.threshold] = -1\n",
    "            \n",
    "        return preds"
   ]
  },
  {
   "cell_type": "code",
   "execution_count": null,
   "metadata": {},
   "outputs": [],
   "source": []
  },
  {
   "cell_type": "code",
   "execution_count": 3,
   "metadata": {},
   "outputs": [],
   "source": [
    "class myAdaBoost:\n",
    "    def __init__(self,n_clf=5):\n",
    "        self.n_clf = n_clf\n",
    "        \n",
    "    def fit(self,X,y):\n",
    "        n_samples,n_features = X.shape\n",
    "        w = np.full(n_samples, (1/n_samples))\n",
    "        \n",
    "        self.clfs=[]\n",
    "        for _ in range(self.n_clf):\n",
    "            clf = DecisionStump()\n",
    "            min_error = float('inf')\n",
    "            for feat in range(n_features):\n",
    "                X_c = X[:,feat]\n",
    "                thresholds=np.unique(X_c)\n",
    "                for threshold in thresholds:\n",
    "                    p=1\n",
    "                    preds=np.ones(n_samples)\n",
    "                    preds[X_c<threshold]=-1\n",
    "                    \n",
    "                    misclassified = w[y!=preds]\n",
    "                    error=sum(misclassified)\n",
    "                    \n",
    "                    if error >0.5:\n",
    "                        p=-1\n",
    "                        error=1-error\n",
    "                    \n",
    "                    if error<min_error:\n",
    "                        min_error=error\n",
    "                        clf.threshold=threshold\n",
    "                        clf.feature_idx=feat\n",
    "                        clf.polarity=p\n",
    "            \n",
    "            EPS=1e-10\n",
    "            clf.alpha=0.5*np.log((1.0-min_error+EPS)/(min_error+EPS))\n",
    "            preds = clf.predict(X)\n",
    "            w *= np.exp(-clf.alpha*y*preds)\n",
    "            w/=np.sum(w)\n",
    "            self.clfs.append(clf)\n",
    "            \n",
    "    def predict(self,X):\n",
    "        clf_preds = [clf.alpha*clf.predict(X) for clf in self.clfs]\n",
    "        y_pred = np.sum(clf_preds,axis=0)\n",
    "        y_pred = np.sign(y_pred)\n",
    "        return y_pred"
   ]
  },
  {
   "cell_type": "code",
   "execution_count": null,
   "metadata": {},
   "outputs": [],
   "source": [
    "\n"
   ]
  },
  {
   "cell_type": "code",
   "execution_count": 6,
   "metadata": {},
   "outputs": [],
   "source": [
    "def accuracy(y_true, y_pred):\n",
    "    accuracy = np.sum(y_true == y_pred) / len(y_true)\n",
    "    return accuracy\n",
    "  \n",
    "data = datasets.load_breast_cancer()\n",
    "X = data.data\n",
    "y = data.target\n",
    "y[y==0]=-1\n",
    "X_train, X_test, y_train, y_test = train_test_split(X, y, test_size=0.2, random_state=1234)\n",
    "\n",
    "clf = myAdaBoost()\n",
    "clf.fit(X_train, y_train)\n",
    "\n",
    "y_pred = clf.predict(X_test)\n",
    "acc = accuracy(y_test, y_pred)"
   ]
  },
  {
   "cell_type": "code",
   "execution_count": null,
   "metadata": {},
   "outputs": [],
   "source": []
  },
  {
   "cell_type": "code",
   "execution_count": null,
   "metadata": {},
   "outputs": [],
   "source": []
  },
  {
   "cell_type": "code",
   "execution_count": null,
   "metadata": {},
   "outputs": [],
   "source": []
  },
  {
   "cell_type": "code",
   "execution_count": null,
   "metadata": {},
   "outputs": [],
   "source": []
  }
 ],
 "metadata": {
  "kernelspec": {
   "display_name": "Python 3",
   "language": "python",
   "name": "python3"
  },
  "language_info": {
   "codemirror_mode": {
    "name": "ipython",
    "version": 3
   },
   "file_extension": ".py",
   "mimetype": "text/x-python",
   "name": "python",
   "nbconvert_exporter": "python",
   "pygments_lexer": "ipython3",
   "version": "3.8.10"
  }
 },
 "nbformat": 4,
 "nbformat_minor": 4
}
